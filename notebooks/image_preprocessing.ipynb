{
 "cells": [
  {
   "cell_type": "markdown",
   "metadata": {},
   "source": [
    "Image preprocessing is an essential step in preparing data for object detection tasks using YOLOv8 or any other object detection algorithm. It involves applying various techniques to enhance the quality of the input images and ensure consistent representation for improved detection accuracy. Here's a comprehensive guide to image preprocessing for optimizing JPEG images for YOLOv8 object detection in Python:"
   ]
  },
  {
   "cell_type": "code",
   "execution_count": null,
   "metadata": {},
   "outputs": [],
   "source": [
    "# import required libraries\n",
    "import os\n",
    "import numpy as np\n",
    "import cv2\n",
    "import random"
   ]
  },
  {
   "cell_type": "code",
   "execution_count": null,
   "metadata": {},
   "outputs": [],
   "source": [
    "def load_images_from_folder(folder):\n",
    "    images = []\n",
    "    for filename in os.listdir(folder):\n",
    "        img = cv2.imread(os.path.join(folder,filename))\n",
    "        if img is not None:\n",
    "            images.append(img)\n",
    "    return images"
   ]
  },
  {
   "cell_type": "code",
   "execution_count": null,
   "metadata": {},
   "outputs": [],
   "source": [
    "path_to_images = \"images\"\n",
    "images_to_process = load_images_from_folder(path_to_images)\n",
    "print(f\"Test dataset contains {len(images_to_process)} images.\")"
   ]
  },
  {
   "cell_type": "code",
   "execution_count": null,
   "metadata": {},
   "outputs": [],
   "source": [
    "# step 1\n",
    "resized_images = [cv2.resize(image, (608, 608)).astype(np.float32) for image in images_to_process]\n",
    "\n",
    "# step 2\n",
    "normalized_images = [cv2.normalize(resized_image, None, 0, 1, cv2.NORM_MINMAX) for resized_image in resized_images] \n",
    "\n",
    "# step 3\n",
    "BGR_images = [cv2.cvtColor(normalized_image, cv2.COLOR_RGB2BGR) for normalized_image in normalized_images]"
   ]
  },
  {
   "cell_type": "code",
   "execution_count": null,
   "metadata": {},
   "outputs": [],
   "source": [
    "# save processed images in path to images\n",
    "for i,BRG_image in enumerate(BGR_images):\n",
    "    img_to_save = cv2.convertScaleAbs(BRG_image, alpha=(255.0))\n",
    "    cv2.imwrite(f'{path_to_images}/processed_image_{i}.jpg',img_to_save)"
   ]
  },
  {
   "cell_type": "code",
   "execution_count": null,
   "metadata": {},
   "outputs": [],
   "source": [
    "# Show image in a separate window\n",
    "# cv2.imshow('Preprocessed Image', BRG_image)\n",
    "# cv2.waitKey(0)\n",
    "# cv2.destroyAllWindows()"
   ]
  },
  {
   "cell_type": "markdown",
   "metadata": {},
   "source": [
    "4. Data Augmentation:\n",
    "\n",
    "Data augmentation involves applying random transformations to the images to artificially increase the dataset size and improve the model's generalization ability. Techniques like random cropping, flipping, and brightness adjustments can be used. OpenCV provides methods for these operations."
   ]
  },
  {
   "cell_type": "code",
   "execution_count": null,
   "metadata": {},
   "outputs": [],
   "source": [
    "def random_crop_coordinates(image_shape):\n",
    "  \"\"\"\n",
    "  This function generates a tuple of random coordinates for cropping an image.\n",
    "\n",
    "  params: image_shape: a tuple containing the height and width of the image.\n",
    "\n",
    "  Returns: tuple containing four values: (x_min, y_min, width, height)\n",
    "  \"\"\"\n",
    "\n",
    "  height, width = image_shape\n",
    "  crop_height = random.randint(int(0.5 * height), height)\n",
    "  crop_width = random.randint(int(0.5 * width), width)\n",
    "  x_min = random.randint(0, width - crop_width)\n",
    "  y_min = random.randint(0, height - crop_height)\n",
    "\n",
    "  return x_min, y_min, crop_width, crop_height"
   ]
  },
  {
   "cell_type": "code",
   "execution_count": null,
   "metadata": {},
   "outputs": [],
   "source": [
    "# Random cropping\n",
    "height, width, channels = BGR_images[0].shape\n",
    "image_shape = (height,width)\n",
    "num_random_images = 10\n",
    "\n",
    "for i in range(num_random_images):\n",
    "    x_min, y_min, width, height = random_crop_coordinates(image_shape)\n",
    "    random_image_idx = np.random.choice(range(len(BGR_images)),1,replace=True)[0]\n",
    "    random_image = BGR_images[random_image_idx]\n",
    "    cropped_image = random_image[y_min:y_min+height, x_min:x_min+width]\n",
    "\n",
    "    # Random flipping\n",
    "    if random.random() < 0.5:\n",
    "        flipped_image = cv2.flip(cropped_image, 1)\n",
    "    else:\n",
    "        flipped_image = cropped_image\n",
    "\n",
    "    img_to_save = cv2.convertScaleAbs(flipped_image, alpha=(255.0))\n",
    "    cv2.imwrite(f'{path_to_images}/augmented_image_{i}.jpg', img_to_save)"
   ]
  }
 ],
 "metadata": {
  "kernelspec": {
   "display_name": "yolov8",
   "language": "python",
   "name": "python3"
  },
  "language_info": {
   "codemirror_mode": {
    "name": "ipython",
    "version": 3
   },
   "file_extension": ".py",
   "mimetype": "text/x-python",
   "name": "python",
   "nbconvert_exporter": "python",
   "pygments_lexer": "ipython3",
   "version": "3.9.18"
  }
 },
 "nbformat": 4,
 "nbformat_minor": 2
}

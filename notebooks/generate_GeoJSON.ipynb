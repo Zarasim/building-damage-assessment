{
 "cells": [
  {
   "cell_type": "markdown",
   "metadata": {},
   "source": [
    "Template for generating building footprints in GeoJSON data format."
   ]
  },
  {
   "cell_type": "code",
   "execution_count": null,
   "metadata": {},
   "outputs": [],
   "source": [
    "import json\n",
    "from shapely.geometry import Polygon\n",
    "\n",
    "# Replace with the actual path to your building footprints data\n",
    "building_footprints_data_path = \"./building_footprints.txt\"\n",
    "\n",
    "# Initialize an empty GeoJSON feature collection\n",
    "feature_collection = {\n",
    "    \"type\": \"FeatureCollection\",\n",
    "    \"features\": [],\n",
    "}\n",
    "\n",
    "# Read the building footprints data from the text file\n",
    "with open(building_footprints_data_path, \"r\") as f:\n",
    "    for line in f:\n",
    "        # Extract the building footprint coordinates from the line\n",
    "        coordinates = line.strip().split(\",\")\n",
    "\n",
    "        # Convert the coordinates into a list of tuples\n",
    "        coordinates_tuples = [(float(x), float(y)) for x, y in coordinates]\n",
    "\n",
    "        # Create a Shapely Polygon object from the coordinates\n",
    "        polygon = Polygon(coordinates_tuples)\n",
    "\n",
    "        # Create a GeoJSON feature from the Shapely Polygon\n",
    "        feature = {\n",
    "            \"type\": \"Feature\",\n",
    "            \"geometry\": {\n",
    "                \"type\": \"Polygon\",\n",
    "                \"coordinates\": polygon.exterior.coords,\n",
    "            },\n",
    "            \"properties\": {\n",
    "                \"building_id\": None,  # Add the building ID if available\n",
    "            },\n",
    "        }\n",
    "\n",
    "        # Add the feature to the GeoJSON feature collection\n",
    "        feature_collection[\"features\"].append(feature)a\n",
    "\n",
    "# Save the GeoJSON feature collection to a file\n",
    "json_data = json.dumps(feature_collection, indent=4)\n",
    "with open(\"building_footprints.geojson\", \"w\") as f:\n",
    "    f.write(json_data)"
   ]
  }
 ],
 "metadata": {
  "kernelspec": {
   "display_name": "yolov8",
   "language": "python",
   "name": "python3"
  },
  "language_info": {
   "codemirror_mode": {
    "name": "ipython",
    "version": 3
   },
   "file_extension": ".py",
   "mimetype": "text/x-python",
   "name": "python",
   "nbconvert_exporter": "python",
   "pygments_lexer": "ipython3",
   "version": "3.9.18"
  }
 },
 "nbformat": 4,
 "nbformat_minor": 2
}
